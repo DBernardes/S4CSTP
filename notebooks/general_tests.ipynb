{
 "cells": [
  {
   "cell_type": "code",
   "execution_count": null,
   "metadata": {},
   "outputs": [],
   "source": [
    "import configparser\n",
    "from datetime import datetime, timedelta\n",
    "from getpass import getuser\n",
    "from os import listdir\n",
    "from os.path import isdir, join\n",
    "from pathlib import Path\n",
    "\n",
    "import pandas as pd\n",
    "\n",
    "readout_times = pd.read_csv(join(\"..\", \"csv\", \"readout_times.csv\"))\n",
    "\n",
    "\n",
    "def get_readout_time(hdr):\n",
    "    df = readout_times\n",
    "    readout_rate = hdr[\"READRATE\"]\n",
    "    binning = hdr[\"HBIN\"]\n",
    "    sub_image = hdr[\"FINALLIN\"] - hdr[\"INITLIN\"] + 1\n",
    "    filter = (\n",
    "        (df[\"Readout rate\"] == readout_rate)\n",
    "        & (df[\"Sub-image\"] == sub_image)\n",
    "        & (df[\"Binning\"] == binning)\n",
    "    )\n",
    "    return df[filter][\"Readout time\"].values[0]\n",
    "\n",
    "\n",
    "def calc_overhead_between_images(hdr, next_hdr):\n",
    "    timestamp = datetime.fromisoformat(hdr[\"DATE-OBS\"])\n",
    "    next_timestamp = datetime.fromisoformat(next_hdr[\"DATE-OBS\"])\n",
    "    readout_time = get_readout_time(hdr)\n",
    "    delay = next_timestamp - timestamp\n",
    "    delay = delay.total_seconds() - hdr[\"EXPTIME\"] - readout_time\n",
    "    return delay\n",
    "\n",
    "\n",
    "def read_config_file():\n",
    "    sparc4_folder = join(\"C:\\\\\", \"Users\", getuser(), \"SPARC4\", \"ACS\")\n",
    "    cfg_file = join(sparc4_folder, \"acs_config.cfg\")\n",
    "    cfg = configparser.ConfigParser()\n",
    "    cfg.read(cfg_file)\n",
    "    return cfg\n",
    "\n",
    "\n",
    "def get_image_folder():\n",
    "    cfg = read_config_file()\n",
    "    today = Path(cfg.get(\"channel configuration\", \"image path\").strip(r\"\\\"\"))\n",
    "    today_list = [file for file in listdir(today) if \".fits\" in file]\n",
    "    if today_list != []:\n",
    "        return today\n",
    "    yesterday = datetime.now() - timedelta(days=1)\n",
    "    yesterday = join(today, \"..\", yesterday.strftime(\"%Y%m%d\"))\n",
    "    if not isdir(yesterday):\n",
    "        raise FileNotFoundError(f\"The folder {yesterday} does not exist.\")\n",
    "    return yesterday"
   ]
  },
  {
   "cell_type": "code",
   "execution_count": null,
   "metadata": {},
   "outputs": [],
   "source": [
    "# VERIFY IF THERE IS ANY ZERO IN THE POLARIMETRIC MODE\n",
    "import os\n",
    "from os.path import join\n",
    "\n",
    "import astropy.io.fits as fits\n",
    "import numpy as np\n",
    "import pandas as pd\n",
    "\n",
    "folder = join(\"C:\\\\\", \"Users\", \"Denis\", \"Desktop\", \"tmp\", \"ch1\")\n",
    "files = os.listdir(folder)\n",
    "headers = {\"INSTMODE\": [], \"WPPOS\": []}\n",
    "\n",
    "for file in files:\n",
    "    file_path = join(folder, file)\n",
    "    hdr = fits.getheader(file_path)\n",
    "    headers[\"INSTMODE\"].append(hdr[\"INSTMODE\"])\n",
    "    headers[\"WPPOS\"].append(hdr[\"WPPOS\"])\n",
    "\n",
    "headers = pd.DataFrame.from_dict(headers)\n",
    "csv_file = join(folder, \"..\", \"WPPOS.csv\")\n",
    "headers.to_csv(csv_file, index=False)\n",
    "\n",
    "wrong_header = (headers[\"INSTMODE\"] == \"POLAR\") & (headers[\"WPPOS\"] == 0)\n",
    "idxs = np.where(wrong_header)[0]\n",
    "for idx in idxs:\n",
    "    print(f\"File {files[idx]} has a wrong header!\")"
   ]
  },
  {
   "cell_type": "code",
   "execution_count": null,
   "metadata": {},
   "outputs": [],
   "source": [
    "# GET SOME IMAGE HEADER KEYWORDS AND WRITEN THEM INTO A CSV\n",
    "import os\n",
    "from os.path import join\n",
    "\n",
    "import astropy.io.fits as fits\n",
    "import numpy as np\n",
    "import pandas as pd\n",
    "\n",
    "folder = get_image_folder()\n",
    "files = [file for file in os.listdir(folder) if \".fits\" in file]\n",
    "\n",
    "headers = {\n",
    "    \"FILENAME\": [],\n",
    "    \"DATE-OBS\": [],\n",
    "    \"NCYCLES\": [],\n",
    "    \"CYCLIND\": [],\n",
    "    \"NSEQ\": [],\n",
    "    \"SEQINDEX\": [],\n",
    "    \"NFRAMES\": [],\n",
    "    \"FRAMEIND\": [],\n",
    "    \"EXPTIME\": [],\n",
    "    \"OVERHEAD\": [],\n",
    "}\n",
    "\n",
    "for idx, file in enumerate(files[:-1]):\n",
    "    file_path = join(folder, file)\n",
    "    hdr1 = fits.getheader(file_path)\n",
    "    file_path = join(folder, files[idx + 1])\n",
    "    hdr2 = fits.getheader(file_path)\n",
    "\n",
    "    for key in headers.keys():\n",
    "        if key == \"OVERHEAD\":\n",
    "            continue\n",
    "        headers[key].append(hdr1[key])\n",
    "    headers[\"OVERHEAD\"].append(calc_overhead_between_images(hdr1, hdr2))\n",
    "\n",
    "headers = pd.DataFrame.from_dict(headers)\n",
    "csv_file = join(\"keywords.csv\")\n",
    "headers.to_csv(csv_file, index=False)"
   ]
  },
  {
   "cell_type": "code",
   "execution_count": null,
   "metadata": {},
   "outputs": [
    {
     "name": "stdout",
     "output_type": "stream",
     "text": [
      "10:00:00\n"
     ]
    }
   ],
   "source": [
    "import re\n",
    "\n",
    "kw_value = \"+10:0\"\n",
    "kw_value = re.sub(r\"^([+-]?\\d{1,2}):(\\d{1,2})$\", r\"\\1:\\2:00\", kw_value)\n",
    "h, m, s = kw_value.split(\":\")\n",
    "n_digits = 2\n",
    "if \"-\" in h:\n",
    "    n_digits += 1\n",
    "kw_value = f\"{int(h):0{n_digits}}:{int(m):02}:{int(s):02}\"\n",
    "print(kw_value)"
   ]
  },
  {
   "cell_type": "code",
   "execution_count": 14,
   "metadata": {},
   "outputs": [
    {
     "ename": "UnitsError",
     "evalue": "No unit specified",
     "output_type": "error",
     "traceback": [
      "\u001b[31m---------------------------------------------------------------------------\u001b[39m",
      "\u001b[31mUnitsError\u001b[39m                                Traceback (most recent call last)",
      "\u001b[36mCell\u001b[39m\u001b[36m \u001b[39m\u001b[32mIn[14]\u001b[39m\u001b[32m, line 4\u001b[39m\n\u001b[32m      1\u001b[39m \u001b[38;5;28;01mimport\u001b[39;00m\u001b[38;5;250m \u001b[39m\u001b[34;01mastropy\u001b[39;00m\u001b[34;01m.\u001b[39;00m\u001b[34;01munits\u001b[39;00m\u001b[38;5;250m \u001b[39m\u001b[38;5;28;01mas\u001b[39;00m\u001b[38;5;250m \u001b[39m\u001b[34;01mu\u001b[39;00m\n\u001b[32m      2\u001b[39m \u001b[38;5;28;01mfrom\u001b[39;00m\u001b[38;5;250m \u001b[39m\u001b[34;01mastropy\u001b[39;00m\u001b[34;01m.\u001b[39;00m\u001b[34;01mcoordinates\u001b[39;00m\u001b[38;5;250m \u001b[39m\u001b[38;5;28;01mimport\u001b[39;00m Angle, SkyCoord\n\u001b[32m----> \u001b[39m\u001b[32m4\u001b[39m coord = \u001b[43mAngle\u001b[49m\u001b[43m(\u001b[49m\u001b[33;43m\"\u001b[39;49m\u001b[33;43m-00:00:01\u001b[39;49m\u001b[33;43m\"\u001b[39;49m\u001b[43m)\u001b[49m\n\u001b[32m      5\u001b[39m coord < \u001b[32m0\u001b[39m\n",
      "\u001b[36mFile \u001b[39m\u001b[32mc:\\Users\\Denis\\AppData\\Local\\pypoetry\\Cache\\virtualenvs\\s4cstp-LIwmcb2Y-py3.12\\Lib\\site-packages\\astropy\\coordinates\\angles\\core.py:164\u001b[39m, in \u001b[36mAngle.__new__\u001b[39m\u001b[34m(cls, angle, unit, dtype, copy, **kwargs)\u001b[39m\n\u001b[32m    155\u001b[39m     \u001b[38;5;28;01mraise\u001b[39;00m \u001b[38;5;167;01mTypeError\u001b[39;00m(\n\u001b[32m    156\u001b[39m         \u001b[33m\"\u001b[39m\u001b[33mCreating an Angle with a tuple of degrees (or hours), minutes, and seconds \u001b[39m\u001b[33m\"\u001b[39m\n\u001b[32m    157\u001b[39m         \u001b[33m\"\u001b[39m\u001b[33mis no longer supported, as it has ambiguous behavior when the degree \u001b[39m\u001b[33m\"\u001b[39m\n\u001b[32m   (...)\u001b[39m\u001b[32m    160\u001b[39m         \u001b[33m\"\u001b[39m\u001b[33mwill be interpreted simply as a sequence with the given unit.\u001b[39m\u001b[33m\"\u001b[39m\n\u001b[32m    161\u001b[39m     )\n\u001b[32m    163\u001b[39m \u001b[38;5;28;01mif\u001b[39;00m \u001b[38;5;28misinstance\u001b[39m(angle, \u001b[38;5;28mstr\u001b[39m):\n\u001b[32m--> \u001b[39m\u001b[32m164\u001b[39m     angle, angle_unit = \u001b[43mformats\u001b[49m\u001b[43m.\u001b[49m\u001b[43mparse_angle\u001b[49m\u001b[43m(\u001b[49m\u001b[43mangle\u001b[49m\u001b[43m,\u001b[49m\u001b[43m \u001b[49m\u001b[43munit\u001b[49m\u001b[43m)\u001b[49m\n\u001b[32m    165\u001b[39m     \u001b[38;5;28;01mif\u001b[39;00m angle_unit \u001b[38;5;129;01mis\u001b[39;00m \u001b[38;5;28;01mNone\u001b[39;00m:\n\u001b[32m    166\u001b[39m         angle_unit = unit\n",
      "\u001b[36mFile \u001b[39m\u001b[32mc:\\Users\\Denis\\AppData\\Local\\pypoetry\\Cache\\virtualenvs\\s4cstp-LIwmcb2Y-py3.12\\Lib\\site-packages\\astropy\\coordinates\\angles\\formats.py:358\u001b[39m, in \u001b[36mparse_angle\u001b[39m\u001b[34m(angle, unit, debug)\u001b[39m\n\u001b[32m    327\u001b[39m \u001b[38;5;28;01mdef\u001b[39;00m\u001b[38;5;250m \u001b[39m\u001b[34mparse_angle\u001b[39m(angle, unit=\u001b[38;5;28;01mNone\u001b[39;00m, debug=\u001b[38;5;28;01mFalse\u001b[39;00m):\n\u001b[32m    328\u001b[39m \u001b[38;5;250m    \u001b[39m\u001b[33;03m\"\"\"\u001b[39;00m\n\u001b[32m    329\u001b[39m \u001b[33;03m    Parses an input string value into an angle value.\u001b[39;00m\n\u001b[32m    330\u001b[39m \n\u001b[32m   (...)\u001b[39m\u001b[32m    356\u001b[39m \u001b[33;03m        string.\u001b[39;00m\n\u001b[32m    357\u001b[39m \u001b[33;03m    \"\"\"\u001b[39;00m\n\u001b[32m--> \u001b[39m\u001b[32m358\u001b[39m     \u001b[38;5;28;01mreturn\u001b[39;00m \u001b[43m_AngleParser\u001b[49m\u001b[43m(\u001b[49m\u001b[43m)\u001b[49m\u001b[43m.\u001b[49m\u001b[43mparse\u001b[49m\u001b[43m(\u001b[49m\u001b[43mangle\u001b[49m\u001b[43m,\u001b[49m\u001b[43m \u001b[49m\u001b[43munit\u001b[49m\u001b[43m,\u001b[49m\u001b[43m \u001b[49m\u001b[43mdebug\u001b[49m\u001b[43m=\u001b[49m\u001b[43mdebug\u001b[49m\u001b[43m)\u001b[49m\n",
      "\u001b[36mFile \u001b[39m\u001b[32mc:\\Users\\Denis\\AppData\\Local\\pypoetry\\Cache\\virtualenvs\\s4cstp-LIwmcb2Y-py3.12\\Lib\\site-packages\\astropy\\coordinates\\angles\\formats.py:289\u001b[39m, in \u001b[36m_AngleParser.parse\u001b[39m\u001b[34m(self, angle, unit, debug)\u001b[39m\n\u001b[32m    284\u001b[39m     \u001b[38;5;28;01mraise\u001b[39;00m \u001b[38;5;167;01mValueError\u001b[39;00m(\n\u001b[32m    285\u001b[39m         \u001b[33mf\u001b[39m\u001b[33m\"\u001b[39m\u001b[38;5;132;01m{\u001b[39;00m\u001b[38;5;28mstr\u001b[39m(e)\u001b[38;5;250m \u001b[39m\u001b[38;5;129;01mor\u001b[39;00m\u001b[38;5;250m \u001b[39m\u001b[33m'\u001b[39m\u001b[33msyntax error\u001b[39m\u001b[33m'\u001b[39m\u001b[38;5;132;01m}\u001b[39;00m\u001b[33m parsing angle \u001b[39m\u001b[38;5;132;01m{\u001b[39;00mangle\u001b[38;5;132;01m!r}\u001b[39;00m\u001b[33m\"\u001b[39m\n\u001b[32m    286\u001b[39m     ) \u001b[38;5;28;01mfrom\u001b[39;00m\u001b[38;5;250m \u001b[39m\u001b[34;01me\u001b[39;00m\n\u001b[32m    288\u001b[39m \u001b[38;5;28;01mif\u001b[39;00m unit \u001b[38;5;129;01mis\u001b[39;00m \u001b[38;5;28;01mNone\u001b[39;00m \u001b[38;5;129;01mand\u001b[39;00m found_unit \u001b[38;5;129;01mis\u001b[39;00m \u001b[38;5;28;01mNone\u001b[39;00m:\n\u001b[32m--> \u001b[39m\u001b[32m289\u001b[39m     \u001b[38;5;28;01mraise\u001b[39;00m u.UnitsError(\u001b[33m\"\u001b[39m\u001b[33mNo unit specified\u001b[39m\u001b[33m\"\u001b[39m)\n\u001b[32m    291\u001b[39m \u001b[38;5;28;01mreturn\u001b[39;00m found_angle, found_unit\n",
      "\u001b[31mUnitsError\u001b[39m: No unit specified"
     ]
    }
   ],
   "source": [
    "import astropy.units as u\n",
    "from astropy.coordinates import Angle, SkyCoord\n",
    "\n",
    "coord = Angle(\"-00:00:01\")\n",
    "coord < 0"
   ]
  }
 ],
 "metadata": {
  "kernelspec": {
   "display_name": "Python 3",
   "language": "python",
   "name": "python3"
  },
  "language_info": {
   "codemirror_mode": {
    "name": "ipython",
    "version": 3
   },
   "file_extension": ".py",
   "mimetype": "text/x-python",
   "name": "python",
   "nbconvert_exporter": "python",
   "pygments_lexer": "ipython3",
   "version": "3.12.4"
  }
 },
 "nbformat": 4,
 "nbformat_minor": 2
}
