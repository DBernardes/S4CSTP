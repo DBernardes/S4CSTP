{
 "cells": [
  {
   "cell_type": "code",
   "execution_count": 22,
   "id": "84199c7a",
   "metadata": {},
   "outputs": [],
   "source": [
    "# CONVERT FROM .FZ TO .FTIZ\n",
    "\n",
    "from os import listdir\n",
    "from os.path import join\n",
    "\n",
    "import astropy.io.fits as fits\n",
    "\n",
    "folder = join(\"C:\\\\\", \"Users\", \"Denis\", \"Desktop\", \"dados\", \"20240605\")\n",
    "for file_name in listdir(folder):\n",
    "    file = fits.open(join(folder, file_name))[1]\n",
    "    fits.writeto(\n",
    "        join(folder, file_name.split(\".fz\")[0]),\n",
    "        file.data,\n",
    "        header=file.header,\n",
    "        overwrite=True,\n",
    "    )"
   ]
  }
 ],
 "metadata": {
  "kernelspec": {
   "display_name": "s4cstp-LIwmcb2Y-py3.12",
   "language": "python",
   "name": "python3"
  },
  "language_info": {
   "codemirror_mode": {
    "name": "ipython",
    "version": 3
   },
   "file_extension": ".py",
   "mimetype": "text/x-python",
   "name": "python",
   "nbconvert_exporter": "python",
   "pygments_lexer": "ipython3",
   "version": "3.12.4"
  }
 },
 "nbformat": 4,
 "nbformat_minor": 5
}
