{
 "cells": [
  {
   "cell_type": "code",
   "execution_count": null,
   "metadata": {},
   "outputs": [],
   "source": [
    "# VERIFY IF THERE IS ANY ZERO IN THE POLARIMETRIC MODE\n",
    "import os\n",
    "from os.path import join\n",
    "\n",
    "import astropy.io.fits as fits\n",
    "import numpy as np\n",
    "import pandas as pd\n",
    "\n",
    "folder = join(\"C:\\\\\", \"Users\", \"Denis\", \"Desktop\", \"tmp\", \"ch1\")\n",
    "files = os.listdir(folder)\n",
    "headers = {\"INSTMODE\": [], \"WPPOS\": []}\n",
    "\n",
    "for file in files:\n",
    "    file_path = join(folder, file)\n",
    "    hdr = fits.getheader(file_path)\n",
    "    headers[\"INSTMODE\"].append(hdr[\"INSTMODE\"])\n",
    "    headers[\"WPPOS\"].append(hdr[\"WPPOS\"])\n",
    "\n",
    "headers = pd.DataFrame.from_dict(headers)\n",
    "csv_file = join(folder, \"..\", \"WPPOS.csv\")\n",
    "headers.to_csv(csv_file, index=False)\n",
    "\n",
    "wrong_header = (headers[\"INSTMODE\"] == \"POLAR\") & (headers[\"WPPOS\"] == 0)\n",
    "idxs = np.where(wrong_header)[0]\n",
    "for idx in idxs:\n",
    "    print(f\"File {files[idx]} has a wrong header!\")"
   ]
  },
  {
   "cell_type": "code",
   "execution_count": 3,
   "metadata": {},
   "outputs": [],
   "source": [
    "# GET SOME IMAGE HEADER KEYWORDS AND WRITEN THEM INTO A CSV\n",
    "import os\n",
    "from os.path import join\n",
    "\n",
    "import astropy.io.fits as fits\n",
    "import numpy as np\n",
    "import pandas as pd\n",
    "\n",
    "folder = join(\"C:\\\\\", \"Users\", \"Denis\", \"Desktop\", \"tmp\", \"ch1\")\n",
    "files = os.listdir(folder)\n",
    "headers = {\n",
    "    \"FILENAME\": [],\n",
    "    \"DATE-OBS\": [],\n",
    "    \"NCYCLES\": [],\n",
    "    \"CYCLIND\": [],\n",
    "    \"NSEQ\": [],\n",
    "    \"SEQINDEX\": [],\n",
    "    \"NFRAMES\": [],\n",
    "    \"FRAMEIND\": [],\n",
    "    \"EXPTIME\": [],\n",
    "}\n",
    "\n",
    "for file in files:\n",
    "    file_path = join(folder, file)\n",
    "    hdr = fits.getheader(file_path)\n",
    "    for key in headers.keys():\n",
    "        headers[key].append(hdr[key])\n",
    "\n",
    "headers = pd.DataFrame.from_dict(headers)\n",
    "csv_file = join(folder, \"..\", \"keywords.csv\")\n",
    "headers.to_csv(csv_file, index=False)"
   ]
  }
 ],
 "metadata": {
  "kernelspec": {
   "display_name": "s4cstp-LIwmcb2Y-py3.12",
   "language": "python",
   "name": "python3"
  },
  "language_info": {
   "codemirror_mode": {
    "name": "ipython",
    "version": 3
   },
   "file_extension": ".py",
   "mimetype": "text/x-python",
   "name": "python",
   "nbconvert_exporter": "python",
   "pygments_lexer": "ipython3",
   "version": "3.12.1"
  }
 },
 "nbformat": 4,
 "nbformat_minor": 2
}
